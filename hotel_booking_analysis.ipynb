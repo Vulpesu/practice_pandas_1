{
 "cells": [
  {
   "cell_type": "code",
   "execution_count": 1,
   "id": "7b403f90-f19b-41c4-9cc0-07bf3657cb53",
   "metadata": {},
   "outputs": [],
   "source": [
    "import pandas as pd"
   ]
  },
  {
   "cell_type": "code",
   "execution_count": 7,
   "id": "78be34a9-1033-4db3-934d-3075b7bbbf89",
   "metadata": {},
   "outputs": [],
   "source": [
    "# Считываем csv файл с ';' в качестве разделителя\n",
    "bookings = pd.read_csv(r'2_bookings.csv', sep=';')\n",
    "\n",
    "# Сохраняем первые семь строк в отдельный датафрейм, \"отрезая\" 7 строк из данного нам датафрейма\n",
    "bookings_head = bookings[:7]"
   ]
  },
  {
   "cell_type": "code",
   "execution_count": 75,
   "id": "b72d44f2-0749-4cd6-b411-76800a23e2f3",
   "metadata": {},
   "outputs": [
    {
     "data": {
      "text/html": [
       "<div>\n",
       "<style scoped>\n",
       "    .dataframe tbody tr th:only-of-type {\n",
       "        vertical-align: middle;\n",
       "    }\n",
       "\n",
       "    .dataframe tbody tr th {\n",
       "        vertical-align: top;\n",
       "    }\n",
       "\n",
       "    .dataframe thead th {\n",
       "        text-align: right;\n",
       "    }\n",
       "</style>\n",
       "<table border=\"1\" class=\"dataframe\">\n",
       "  <thead>\n",
       "    <tr style=\"text-align: right;\">\n",
       "      <th></th>\n",
       "      <th>hotel</th>\n",
       "      <th>is_canceled</th>\n",
       "      <th>lead_time</th>\n",
       "      <th>arrival_full_date</th>\n",
       "      <th>arrival_date_year</th>\n",
       "      <th>arrival_date_month</th>\n",
       "      <th>arrival_date_week_number</th>\n",
       "      <th>arrival_date_day_of_month</th>\n",
       "      <th>stays_in_weekend_nights</th>\n",
       "      <th>stays_in_week_nights</th>\n",
       "      <th>...</th>\n",
       "      <th>adults</th>\n",
       "      <th>children</th>\n",
       "      <th>babies</th>\n",
       "      <th>meal</th>\n",
       "      <th>country</th>\n",
       "      <th>reserved_room_type</th>\n",
       "      <th>assigned_room_type</th>\n",
       "      <th>customer_type</th>\n",
       "      <th>reservation_status</th>\n",
       "      <th>reservation_status_date</th>\n",
       "    </tr>\n",
       "  </thead>\n",
       "  <tbody>\n",
       "    <tr>\n",
       "      <th>0</th>\n",
       "      <td>Resort Hotel</td>\n",
       "      <td>0</td>\n",
       "      <td>342</td>\n",
       "      <td>2015-07-01</td>\n",
       "      <td>2015</td>\n",
       "      <td>July</td>\n",
       "      <td>27</td>\n",
       "      <td>1</td>\n",
       "      <td>0</td>\n",
       "      <td>0</td>\n",
       "      <td>...</td>\n",
       "      <td>2</td>\n",
       "      <td>0.0</td>\n",
       "      <td>0</td>\n",
       "      <td>BB</td>\n",
       "      <td>PRT</td>\n",
       "      <td>C</td>\n",
       "      <td>C</td>\n",
       "      <td>Transient</td>\n",
       "      <td>Check-Out</td>\n",
       "      <td>2015-07-01</td>\n",
       "    </tr>\n",
       "    <tr>\n",
       "      <th>1</th>\n",
       "      <td>Resort Hotel</td>\n",
       "      <td>0</td>\n",
       "      <td>737</td>\n",
       "      <td>2015-07-01</td>\n",
       "      <td>2015</td>\n",
       "      <td>July</td>\n",
       "      <td>27</td>\n",
       "      <td>1</td>\n",
       "      <td>0</td>\n",
       "      <td>0</td>\n",
       "      <td>...</td>\n",
       "      <td>2</td>\n",
       "      <td>0.0</td>\n",
       "      <td>0</td>\n",
       "      <td>BB</td>\n",
       "      <td>PRT</td>\n",
       "      <td>C</td>\n",
       "      <td>C</td>\n",
       "      <td>Transient</td>\n",
       "      <td>Check-Out</td>\n",
       "      <td>2015-07-01</td>\n",
       "    </tr>\n",
       "    <tr>\n",
       "      <th>2</th>\n",
       "      <td>Resort Hotel</td>\n",
       "      <td>0</td>\n",
       "      <td>7</td>\n",
       "      <td>2015-07-01</td>\n",
       "      <td>2015</td>\n",
       "      <td>July</td>\n",
       "      <td>27</td>\n",
       "      <td>1</td>\n",
       "      <td>0</td>\n",
       "      <td>1</td>\n",
       "      <td>...</td>\n",
       "      <td>1</td>\n",
       "      <td>0.0</td>\n",
       "      <td>0</td>\n",
       "      <td>BB</td>\n",
       "      <td>GBR</td>\n",
       "      <td>A</td>\n",
       "      <td>C</td>\n",
       "      <td>Transient</td>\n",
       "      <td>Check-Out</td>\n",
       "      <td>2015-07-02</td>\n",
       "    </tr>\n",
       "    <tr>\n",
       "      <th>3</th>\n",
       "      <td>Resort Hotel</td>\n",
       "      <td>0</td>\n",
       "      <td>13</td>\n",
       "      <td>2015-07-01</td>\n",
       "      <td>2015</td>\n",
       "      <td>July</td>\n",
       "      <td>27</td>\n",
       "      <td>1</td>\n",
       "      <td>0</td>\n",
       "      <td>1</td>\n",
       "      <td>...</td>\n",
       "      <td>1</td>\n",
       "      <td>0.0</td>\n",
       "      <td>0</td>\n",
       "      <td>BB</td>\n",
       "      <td>GBR</td>\n",
       "      <td>A</td>\n",
       "      <td>A</td>\n",
       "      <td>Transient</td>\n",
       "      <td>Check-Out</td>\n",
       "      <td>2015-07-02</td>\n",
       "    </tr>\n",
       "    <tr>\n",
       "      <th>4</th>\n",
       "      <td>Resort Hotel</td>\n",
       "      <td>0</td>\n",
       "      <td>14</td>\n",
       "      <td>2015-07-01</td>\n",
       "      <td>2015</td>\n",
       "      <td>July</td>\n",
       "      <td>27</td>\n",
       "      <td>1</td>\n",
       "      <td>0</td>\n",
       "      <td>2</td>\n",
       "      <td>...</td>\n",
       "      <td>2</td>\n",
       "      <td>0.0</td>\n",
       "      <td>0</td>\n",
       "      <td>BB</td>\n",
       "      <td>GBR</td>\n",
       "      <td>A</td>\n",
       "      <td>A</td>\n",
       "      <td>Transient</td>\n",
       "      <td>Check-Out</td>\n",
       "      <td>2015-07-03</td>\n",
       "    </tr>\n",
       "    <tr>\n",
       "      <th>5</th>\n",
       "      <td>Resort Hotel</td>\n",
       "      <td>0</td>\n",
       "      <td>14</td>\n",
       "      <td>2015-07-01</td>\n",
       "      <td>2015</td>\n",
       "      <td>July</td>\n",
       "      <td>27</td>\n",
       "      <td>1</td>\n",
       "      <td>0</td>\n",
       "      <td>2</td>\n",
       "      <td>...</td>\n",
       "      <td>2</td>\n",
       "      <td>0.0</td>\n",
       "      <td>0</td>\n",
       "      <td>BB</td>\n",
       "      <td>GBR</td>\n",
       "      <td>A</td>\n",
       "      <td>A</td>\n",
       "      <td>Transient</td>\n",
       "      <td>Check-Out</td>\n",
       "      <td>2015-07-03</td>\n",
       "    </tr>\n",
       "    <tr>\n",
       "      <th>6</th>\n",
       "      <td>Resort Hotel</td>\n",
       "      <td>0</td>\n",
       "      <td>0</td>\n",
       "      <td>2015-07-01</td>\n",
       "      <td>2015</td>\n",
       "      <td>July</td>\n",
       "      <td>27</td>\n",
       "      <td>1</td>\n",
       "      <td>0</td>\n",
       "      <td>2</td>\n",
       "      <td>...</td>\n",
       "      <td>2</td>\n",
       "      <td>0.0</td>\n",
       "      <td>0</td>\n",
       "      <td>BB</td>\n",
       "      <td>PRT</td>\n",
       "      <td>C</td>\n",
       "      <td>C</td>\n",
       "      <td>Transient</td>\n",
       "      <td>Check-Out</td>\n",
       "      <td>2015-07-03</td>\n",
       "    </tr>\n",
       "    <tr>\n",
       "      <th>7</th>\n",
       "      <td>Resort Hotel</td>\n",
       "      <td>0</td>\n",
       "      <td>9</td>\n",
       "      <td>2015-07-01</td>\n",
       "      <td>2015</td>\n",
       "      <td>July</td>\n",
       "      <td>27</td>\n",
       "      <td>1</td>\n",
       "      <td>0</td>\n",
       "      <td>2</td>\n",
       "      <td>...</td>\n",
       "      <td>2</td>\n",
       "      <td>0.0</td>\n",
       "      <td>0</td>\n",
       "      <td>FB</td>\n",
       "      <td>PRT</td>\n",
       "      <td>C</td>\n",
       "      <td>C</td>\n",
       "      <td>Transient</td>\n",
       "      <td>Check-Out</td>\n",
       "      <td>2015-07-03</td>\n",
       "    </tr>\n",
       "    <tr>\n",
       "      <th>8</th>\n",
       "      <td>Resort Hotel</td>\n",
       "      <td>1</td>\n",
       "      <td>85</td>\n",
       "      <td>2015-07-01</td>\n",
       "      <td>2015</td>\n",
       "      <td>July</td>\n",
       "      <td>27</td>\n",
       "      <td>1</td>\n",
       "      <td>0</td>\n",
       "      <td>3</td>\n",
       "      <td>...</td>\n",
       "      <td>2</td>\n",
       "      <td>0.0</td>\n",
       "      <td>0</td>\n",
       "      <td>BB</td>\n",
       "      <td>PRT</td>\n",
       "      <td>A</td>\n",
       "      <td>A</td>\n",
       "      <td>Transient</td>\n",
       "      <td>Canceled</td>\n",
       "      <td>2015-05-06</td>\n",
       "    </tr>\n",
       "    <tr>\n",
       "      <th>9</th>\n",
       "      <td>Resort Hotel</td>\n",
       "      <td>1</td>\n",
       "      <td>75</td>\n",
       "      <td>2015-07-01</td>\n",
       "      <td>2015</td>\n",
       "      <td>July</td>\n",
       "      <td>27</td>\n",
       "      <td>1</td>\n",
       "      <td>0</td>\n",
       "      <td>3</td>\n",
       "      <td>...</td>\n",
       "      <td>2</td>\n",
       "      <td>0.0</td>\n",
       "      <td>0</td>\n",
       "      <td>HB</td>\n",
       "      <td>PRT</td>\n",
       "      <td>D</td>\n",
       "      <td>D</td>\n",
       "      <td>Transient</td>\n",
       "      <td>Canceled</td>\n",
       "      <td>2015-04-22</td>\n",
       "    </tr>\n",
       "  </tbody>\n",
       "</table>\n",
       "<p>10 rows × 21 columns</p>\n",
       "</div>"
      ],
      "text/plain": [
       "          hotel  is_canceled  lead_time arrival_full_date  arrival_date_year  \\\n",
       "0  Resort Hotel            0        342        2015-07-01               2015   \n",
       "1  Resort Hotel            0        737        2015-07-01               2015   \n",
       "2  Resort Hotel            0          7        2015-07-01               2015   \n",
       "3  Resort Hotel            0         13        2015-07-01               2015   \n",
       "4  Resort Hotel            0         14        2015-07-01               2015   \n",
       "5  Resort Hotel            0         14        2015-07-01               2015   \n",
       "6  Resort Hotel            0          0        2015-07-01               2015   \n",
       "7  Resort Hotel            0          9        2015-07-01               2015   \n",
       "8  Resort Hotel            1         85        2015-07-01               2015   \n",
       "9  Resort Hotel            1         75        2015-07-01               2015   \n",
       "\n",
       "  arrival_date_month  arrival_date_week_number  arrival_date_day_of_month  \\\n",
       "0               July                        27                          1   \n",
       "1               July                        27                          1   \n",
       "2               July                        27                          1   \n",
       "3               July                        27                          1   \n",
       "4               July                        27                          1   \n",
       "5               July                        27                          1   \n",
       "6               July                        27                          1   \n",
       "7               July                        27                          1   \n",
       "8               July                        27                          1   \n",
       "9               July                        27                          1   \n",
       "\n",
       "   stays_in_weekend_nights  stays_in_week_nights  ...  adults  children  \\\n",
       "0                        0                     0  ...       2       0.0   \n",
       "1                        0                     0  ...       2       0.0   \n",
       "2                        0                     1  ...       1       0.0   \n",
       "3                        0                     1  ...       1       0.0   \n",
       "4                        0                     2  ...       2       0.0   \n",
       "5                        0                     2  ...       2       0.0   \n",
       "6                        0                     2  ...       2       0.0   \n",
       "7                        0                     2  ...       2       0.0   \n",
       "8                        0                     3  ...       2       0.0   \n",
       "9                        0                     3  ...       2       0.0   \n",
       "\n",
       "   babies  meal country reserved_room_type assigned_room_type customer_type  \\\n",
       "0       0    BB     PRT                  C                  C     Transient   \n",
       "1       0    BB     PRT                  C                  C     Transient   \n",
       "2       0    BB     GBR                  A                  C     Transient   \n",
       "3       0    BB     GBR                  A                  A     Transient   \n",
       "4       0    BB     GBR                  A                  A     Transient   \n",
       "5       0    BB     GBR                  A                  A     Transient   \n",
       "6       0    BB     PRT                  C                  C     Transient   \n",
       "7       0    FB     PRT                  C                  C     Transient   \n",
       "8       0    BB     PRT                  A                  A     Transient   \n",
       "9       0    HB     PRT                  D                  D     Transient   \n",
       "\n",
       "  reservation_status reservation_status_date  \n",
       "0          Check-Out              2015-07-01  \n",
       "1          Check-Out              2015-07-01  \n",
       "2          Check-Out              2015-07-02  \n",
       "3          Check-Out              2015-07-02  \n",
       "4          Check-Out              2015-07-03  \n",
       "5          Check-Out              2015-07-03  \n",
       "6          Check-Out              2015-07-03  \n",
       "7          Check-Out              2015-07-03  \n",
       "8           Canceled              2015-05-06  \n",
       "9           Canceled              2015-04-22  \n",
       "\n",
       "[10 rows x 21 columns]"
      ]
     },
     "execution_count": 75,
     "metadata": {},
     "output_type": "execute_result"
    }
   ],
   "source": [
    "bookings[:10]"
   ]
  },
  {
   "cell_type": "code",
   "execution_count": null,
   "id": "4151b91e-8ae1-4cf1-aae5-6f43f45cffa9",
   "metadata": {},
   "outputs": [],
   "source": []
  },
  {
   "cell_type": "code",
   "execution_count": 10,
   "id": "a8f4ea89-76e5-47bc-be7d-da677e89746c",
   "metadata": {},
   "outputs": [
    {
     "data": {
      "text/plain": [
       "Hotel                         object\n",
       "Is Canceled                    int64\n",
       "Lead Time                      int64\n",
       "arrival full date             object\n",
       "Arrival Date Year              int64\n",
       "Arrival Date Month            object\n",
       "Arrival Date Week Number       int64\n",
       "Arrival Date Day of Month      int64\n",
       "Stays in Weekend nights        int64\n",
       "Stays in week nights           int64\n",
       "stays total nights             int64\n",
       "Adults                         int64\n",
       "Children                     float64\n",
       "Babies                         int64\n",
       "Meal                          object\n",
       "Country                       object\n",
       "Reserved Room Type            object\n",
       "Assigned room type            object\n",
       "customer type                 object\n",
       "Reservation Status            object\n",
       "Reservation status_date       object\n",
       "dtype: object"
      ]
     },
     "execution_count": 10,
     "metadata": {},
     "output_type": "execute_result"
    }
   ],
   "source": [
    "# Возвращает тип данных каждой колонки(столбца)\n",
    "bookings.dtypes"
   ]
  },
  {
   "cell_type": "code",
   "execution_count": null,
   "id": "0baa9bce-3bf1-43bb-ad60-1b81ad0a2077",
   "metadata": {},
   "outputs": [],
   "source": []
  },
  {
   "cell_type": "code",
   "execution_count": 17,
   "id": "56005193-1c9b-4f40-b044-8c1e81da7789",
   "metadata": {},
   "outputs": [
    {
     "data": {
      "text/plain": [
       "Index(['Hotel', 'Is Canceled', 'Lead Time', 'arrival full date',\n",
       "       'Arrival Date Year', 'Arrival Date Month', 'Arrival Date Week Number',\n",
       "       'Arrival Date Day of Month', 'Stays in Weekend nights',\n",
       "       'Stays in week nights', 'stays total nights', 'Adults', 'Children',\n",
       "       'Babies', 'Meal', 'Country', 'Reserved Room Type', 'Assigned room type',\n",
       "       'customer type', 'Reservation Status', 'Reservation status_date'],\n",
       "      dtype='object')"
      ]
     },
     "execution_count": 17,
     "metadata": {},
     "output_type": "execute_result"
    }
   ],
   "source": [
    "# Изначальное название колонок \n",
    "bookings.columns"
   ]
  },
  {
   "cell_type": "code",
   "execution_count": 60,
   "id": "7933c2c8-2d85-41d9-b362-ab9e4f714302",
   "metadata": {},
   "outputs": [
    {
     "data": {
      "text/plain": [
       "Index(['hotel', 'is_canceled', 'lead_time', 'arrival_full_date',\n",
       "       'arrival_date_year', 'arrival_date_month', 'arrival_date_week_number',\n",
       "       'arrival_date_day_of_month', 'stays_in_weekend_nights',\n",
       "       'stays_in_week_nights', 'stays_total_nights', 'adults', 'children',\n",
       "       'babies', 'meal', 'country', 'reserved_room_type', 'assigned_room_type',\n",
       "       'customer_type', 'reservation_status', 'reservation_status_date'],\n",
       "      dtype='object')"
      ]
     },
     "execution_count": 60,
     "metadata": {},
     "output_type": "execute_result"
    }
   ],
   "source": [
    "# методы изменяющие коллонки первый \"rename\" меняет регистр на нижний задавая 'columns=str.lower', второй \"rename\" при помощи \n",
    "# lambda x: x.replace(' ','_') меняет все пробелы на нижние пробелы в 'columns=lambda x: x.replace(' ','_')'  \n",
    "bookings.rename(columns=str.lower).rename(columns=lambda x: x.replace(' ','_')).columns\n",
    "\n",
    "# метод куда проще, просто применяем к колонкам поочередно методы str.lower() и str.replace(' ', '_')\n",
    "bookings.columns = bookings.columns.str.lower().str.replace(' ', '_')"
   ]
  },
  {
   "cell_type": "code",
   "execution_count": 58,
   "id": "fac50441-8f5e-4a5d-be4f-248a0a130832",
   "metadata": {},
   "outputs": [],
   "source": [
    "# меняяем окончательно все названия колонок \n",
    "bookings.columns = bookings.rename(columns=str.lower).rename(columns=lambda x: x.replace(' ','_')).columns"
   ]
  },
  {
   "cell_type": "code",
   "execution_count": null,
   "id": "82f501dc-6d82-462b-9740-02111eef6167",
   "metadata": {},
   "outputs": [],
   "source": []
  },
  {
   "cell_type": "code",
   "execution_count": 72,
   "id": "2fe20b44-67ea-44d3-8a4d-8eb3b826f9d3",
   "metadata": {},
   "outputs": [
    {
     "data": {
      "text/html": [
       "<div>\n",
       "<style scoped>\n",
       "    .dataframe tbody tr th:only-of-type {\n",
       "        vertical-align: middle;\n",
       "    }\n",
       "\n",
       "    .dataframe tbody tr th {\n",
       "        vertical-align: top;\n",
       "    }\n",
       "\n",
       "    .dataframe thead th {\n",
       "        text-align: right;\n",
       "    }\n",
       "</style>\n",
       "<table border=\"1\" class=\"dataframe\">\n",
       "  <thead>\n",
       "    <tr style=\"text-align: right;\">\n",
       "      <th></th>\n",
       "      <th>successful_booking</th>\n",
       "    </tr>\n",
       "    <tr>\n",
       "      <th>country</th>\n",
       "      <th></th>\n",
       "    </tr>\n",
       "  </thead>\n",
       "  <tbody>\n",
       "    <tr>\n",
       "      <th>PRT</th>\n",
       "      <td>21071</td>\n",
       "    </tr>\n",
       "    <tr>\n",
       "      <th>GBR</th>\n",
       "      <td>9676</td>\n",
       "    </tr>\n",
       "    <tr>\n",
       "      <th>FRA</th>\n",
       "      <td>8481</td>\n",
       "    </tr>\n",
       "    <tr>\n",
       "      <th>ESP</th>\n",
       "      <td>6391</td>\n",
       "    </tr>\n",
       "    <tr>\n",
       "      <th>DEU</th>\n",
       "      <td>6069</td>\n",
       "    </tr>\n",
       "  </tbody>\n",
       "</table>\n",
       "</div>"
      ],
      "text/plain": [
       "         successful_booking\n",
       "country                    \n",
       "PRT                   21071\n",
       "GBR                    9676\n",
       "FRA                    8481\n",
       "ESP                    6391\n",
       "DEU                    6069"
      ]
     },
     "execution_count": 72,
     "metadata": {},
     "output_type": "execute_result"
    }
   ],
   "source": [
    "#  Метод позволяющий узнать пользователи из каких стран совершили наибольшее число успешных бронирований\n",
    "\n",
    "bookings[bookings.is_canceled == 0].rename(columns={'is_canceled':'successful_booking'}).groupby('country').agg({'successful_booking':'count'}).sort_values('successful_booking',ascending=False)[:5]"
   ]
  },
  {
   "cell_type": "code",
   "execution_count": null,
   "id": "750ee20f-a851-4386-82f8-d1180776f79d",
   "metadata": {},
   "outputs": [],
   "source": []
  },
  {
   "cell_type": "code",
   "execution_count": 84,
   "id": "10820de7-7588-42d0-a4c3-c8e30ca91c04",
   "metadata": {},
   "outputs": [
    {
     "data": {
      "text/plain": [
       "2.978141938736922"
      ]
     },
     "execution_count": 84,
     "metadata": {},
     "output_type": "execute_result"
    }
   ],
   "source": [
    "# Узнаем на сколько ночей (stays_total_nights)  в среднем бронируют отели типа City Hotel\n",
    "bookings[bookings.hotel == 'City Hotel'].stays_total_nights.mean()"
   ]
  },
  {
   "cell_type": "code",
   "execution_count": 86,
   "id": "5c4edf01-937c-472a-9434-9dff1781795e",
   "metadata": {},
   "outputs": [
    {
     "data": {
      "text/plain": [
       "4.318547179231153"
      ]
     },
     "execution_count": 86,
     "metadata": {},
     "output_type": "execute_result"
    }
   ],
   "source": [
    "# Узнаем на сколько ночей (stays_total_nights)  в среднем бронируют отели типа Resort Hotel\n",
    "bookings[bookings.hotel == 'Resort Hotel'].stays_total_nights.mean()"
   ]
  },
  {
   "cell_type": "code",
   "execution_count": null,
   "id": "9b931310-f78a-4971-a54b-044d7b03a92f",
   "metadata": {},
   "outputs": [],
   "source": []
  },
  {
   "cell_type": "code",
   "execution_count": 91,
   "id": "34e912f0-1a6b-4eed-86d5-20e4c745b0d7",
   "metadata": {},
   "outputs": [
    {
     "data": {
      "text/plain": [
       "(14917, 21)"
      ]
     },
     "execution_count": 91,
     "metadata": {},
     "output_type": "execute_result"
    }
   ],
   "source": [
    "# Сколько типов номеров отличается от изначально забронированного \n",
    "bookings[bookings.reserved_room_type != bookings.assigned_room_type].shape"
   ]
  },
  {
   "cell_type": "code",
   "execution_count": null,
   "id": "8d1c11f6-44a6-4233-96a1-82870b5c660a",
   "metadata": {},
   "outputs": [],
   "source": []
  },
  {
   "cell_type": "code",
   "execution_count": 98,
   "id": "c31281c3-4d51-4eb5-874b-91baa517b9f7",
   "metadata": {},
   "outputs": [
    {
     "data": {
      "text/html": [
       "<div>\n",
       "<style scoped>\n",
       "    .dataframe tbody tr th:only-of-type {\n",
       "        vertical-align: middle;\n",
       "    }\n",
       "\n",
       "    .dataframe tbody tr th {\n",
       "        vertical-align: top;\n",
       "    }\n",
       "\n",
       "    .dataframe thead th {\n",
       "        text-align: right;\n",
       "    }\n",
       "</style>\n",
       "<table border=\"1\" class=\"dataframe\">\n",
       "  <thead>\n",
       "    <tr style=\"text-align: right;\">\n",
       "      <th></th>\n",
       "      <th>count</th>\n",
       "    </tr>\n",
       "    <tr>\n",
       "      <th>arrival_date_month</th>\n",
       "      <th></th>\n",
       "    </tr>\n",
       "  </thead>\n",
       "  <tbody>\n",
       "    <tr>\n",
       "      <th>October</th>\n",
       "      <td>6203</td>\n",
       "    </tr>\n",
       "    <tr>\n",
       "      <th>May</th>\n",
       "      <td>5478</td>\n",
       "    </tr>\n",
       "    <tr>\n",
       "      <th>April</th>\n",
       "      <td>5428</td>\n",
       "    </tr>\n",
       "    <tr>\n",
       "      <th>September</th>\n",
       "      <td>5394</td>\n",
       "    </tr>\n",
       "    <tr>\n",
       "      <th>June</th>\n",
       "      <td>5292</td>\n",
       "    </tr>\n",
       "    <tr>\n",
       "      <th>August</th>\n",
       "      <td>5063</td>\n",
       "    </tr>\n",
       "    <tr>\n",
       "      <th>March</th>\n",
       "      <td>4824</td>\n",
       "    </tr>\n",
       "    <tr>\n",
       "      <th>July</th>\n",
       "      <td>4572</td>\n",
       "    </tr>\n",
       "    <tr>\n",
       "      <th>November</th>\n",
       "      <td>4454</td>\n",
       "    </tr>\n",
       "    <tr>\n",
       "      <th>February</th>\n",
       "      <td>3891</td>\n",
       "    </tr>\n",
       "    <tr>\n",
       "      <th>December</th>\n",
       "      <td>3860</td>\n",
       "    </tr>\n",
       "    <tr>\n",
       "      <th>January</th>\n",
       "      <td>2248</td>\n",
       "    </tr>\n",
       "  </tbody>\n",
       "</table>\n",
       "</div>"
      ],
      "text/plain": [
       "                    count\n",
       "arrival_date_month       \n",
       "October              6203\n",
       "May                  5478\n",
       "April                5428\n",
       "September            5394\n",
       "June                 5292\n",
       "August               5063\n",
       "March                4824\n",
       "July                 4572\n",
       "November             4454\n",
       "February             3891\n",
       "December             3860\n",
       "January              2248"
      ]
     },
     "execution_count": 98,
     "metadata": {},
     "output_type": "execute_result"
    }
   ],
   "source": [
    "# Узнем какой месяц чаще всего оформляли бронь в 2016 году\n",
    "bookings[bookings.arrival_date_year == 2016].groupby('arrival_date_month').agg({'hotel':'count'}).rename(columns={'hotel':'count'}).sort_values('count', ascending=False)"
   ]
  },
  {
   "cell_type": "code",
   "execution_count": 99,
   "id": "9834300c-ccde-4c89-96e0-730d79f07726",
   "metadata": {},
   "outputs": [
    {
     "data": {
      "text/html": [
       "<div>\n",
       "<style scoped>\n",
       "    .dataframe tbody tr th:only-of-type {\n",
       "        vertical-align: middle;\n",
       "    }\n",
       "\n",
       "    .dataframe tbody tr th {\n",
       "        vertical-align: top;\n",
       "    }\n",
       "\n",
       "    .dataframe thead th {\n",
       "        text-align: right;\n",
       "    }\n",
       "</style>\n",
       "<table border=\"1\" class=\"dataframe\">\n",
       "  <thead>\n",
       "    <tr style=\"text-align: right;\">\n",
       "      <th></th>\n",
       "      <th>count</th>\n",
       "    </tr>\n",
       "    <tr>\n",
       "      <th>arrival_date_month</th>\n",
       "      <th></th>\n",
       "    </tr>\n",
       "  </thead>\n",
       "  <tbody>\n",
       "    <tr>\n",
       "      <th>May</th>\n",
       "      <td>6313</td>\n",
       "    </tr>\n",
       "    <tr>\n",
       "      <th>April</th>\n",
       "      <td>5661</td>\n",
       "    </tr>\n",
       "    <tr>\n",
       "      <th>June</th>\n",
       "      <td>5647</td>\n",
       "    </tr>\n",
       "    <tr>\n",
       "      <th>July</th>\n",
       "      <td>5313</td>\n",
       "    </tr>\n",
       "    <tr>\n",
       "      <th>March</th>\n",
       "      <td>4970</td>\n",
       "    </tr>\n",
       "    <tr>\n",
       "      <th>August</th>\n",
       "      <td>4925</td>\n",
       "    </tr>\n",
       "    <tr>\n",
       "      <th>February</th>\n",
       "      <td>4177</td>\n",
       "    </tr>\n",
       "    <tr>\n",
       "      <th>January</th>\n",
       "      <td>3681</td>\n",
       "    </tr>\n",
       "  </tbody>\n",
       "</table>\n",
       "</div>"
      ],
      "text/plain": [
       "                    count\n",
       "arrival_date_month       \n",
       "May                  6313\n",
       "April                5661\n",
       "June                 5647\n",
       "July                 5313\n",
       "March                4970\n",
       "August               4925\n",
       "February             4177\n",
       "January              3681"
      ]
     },
     "execution_count": 99,
     "metadata": {},
     "output_type": "execute_result"
    }
   ],
   "source": [
    "# Узнем какой месяц чаще всего оформляли бронь в 2017 году\n",
    "bookings[bookings.arrival_date_year == 2017].groupby('arrival_date_month').agg({'hotel':'count'}).rename(columns={'hotel':'count'}).sort_values('count', ascending=False)"
   ]
  },
  {
   "cell_type": "code",
   "execution_count": 111,
   "id": "bf514521-d73e-4d18-8c61-87e034da1c0e",
   "metadata": {},
   "outputs": [
    {
     "name": "stderr",
     "output_type": "stream",
     "text": [
      "C:\\Users\\user\\AppData\\Local\\Temp\\ipykernel_5536\\2319630934.py:1: UserWarning: Boolean Series key will be reindexed to match DataFrame index.\n",
      "  bookings[bookings.hotel == 'City Hotel'][bookings.is_canceled == True][bookings.arrival_date_year == 2015].groupby('arrival_date_month').agg({'hotel':'count'}).sort_values('hotel', ascending=False)\n",
      "C:\\Users\\user\\AppData\\Local\\Temp\\ipykernel_5536\\2319630934.py:1: UserWarning: Boolean Series key will be reindexed to match DataFrame index.\n",
      "  bookings[bookings.hotel == 'City Hotel'][bookings.is_canceled == True][bookings.arrival_date_year == 2015].groupby('arrival_date_month').agg({'hotel':'count'}).sort_values('hotel', ascending=False)\n"
     ]
    },
    {
     "data": {
      "text/html": [
       "<div>\n",
       "<style scoped>\n",
       "    .dataframe tbody tr th:only-of-type {\n",
       "        vertical-align: middle;\n",
       "    }\n",
       "\n",
       "    .dataframe tbody tr th {\n",
       "        vertical-align: top;\n",
       "    }\n",
       "\n",
       "    .dataframe thead th {\n",
       "        text-align: right;\n",
       "    }\n",
       "</style>\n",
       "<table border=\"1\" class=\"dataframe\">\n",
       "  <thead>\n",
       "    <tr style=\"text-align: right;\">\n",
       "      <th></th>\n",
       "      <th>hotel</th>\n",
       "    </tr>\n",
       "    <tr>\n",
       "      <th>arrival_date_month</th>\n",
       "      <th></th>\n",
       "    </tr>\n",
       "  </thead>\n",
       "  <tbody>\n",
       "    <tr>\n",
       "      <th>September</th>\n",
       "      <td>1543</td>\n",
       "    </tr>\n",
       "    <tr>\n",
       "      <th>October</th>\n",
       "      <td>1321</td>\n",
       "    </tr>\n",
       "    <tr>\n",
       "      <th>August</th>\n",
       "      <td>1232</td>\n",
       "    </tr>\n",
       "    <tr>\n",
       "      <th>July</th>\n",
       "      <td>939</td>\n",
       "    </tr>\n",
       "    <tr>\n",
       "      <th>December</th>\n",
       "      <td>668</td>\n",
       "    </tr>\n",
       "    <tr>\n",
       "      <th>November</th>\n",
       "      <td>301</td>\n",
       "    </tr>\n",
       "  </tbody>\n",
       "</table>\n",
       "</div>"
      ],
      "text/plain": [
       "                    hotel\n",
       "arrival_date_month       \n",
       "September            1543\n",
       "October              1321\n",
       "August               1232\n",
       "July                  939\n",
       "December              668\n",
       "November              301"
      ]
     },
     "execution_count": 111,
     "metadata": {},
     "output_type": "execute_result"
    }
   ],
   "source": [
    "# топ-количеств отмен по месяцам в 2015\n",
    "bookings[bookings.hotel == 'City Hotel'][bookings.is_canceled == True][bookings.arrival_date_year == 2015].groupby('arrival_date_month').agg({'hotel':'count'}).sort_values('hotel', ascending=False)"
   ]
  },
  {
   "cell_type": "code",
   "execution_count": null,
   "id": "1c73eb14-1e1b-49e1-b13f-7ad0717d8047",
   "metadata": {},
   "outputs": [],
   "source": []
  },
  {
   "cell_type": "code",
   "execution_count": null,
   "id": "64b00ff5-5712-42a7-b474-a5306d4e56d2",
   "metadata": {},
   "outputs": [],
   "source": []
  },
  {
   "cell_type": "code",
   "execution_count": 112,
   "id": "0af682f5-60dc-4a09-85bf-1b2d513c89e1",
   "metadata": {},
   "outputs": [
    {
     "name": "stderr",
     "output_type": "stream",
     "text": [
      "C:\\Users\\user\\AppData\\Local\\Temp\\ipykernel_5536\\2797316967.py:2: UserWarning: Boolean Series key will be reindexed to match DataFrame index.\n",
      "  bookings[bookings.hotel == 'City Hotel'][bookings.is_canceled == True][bookings.arrival_date_year == 2016].groupby('arrival_date_month').agg({'hotel':'count'}).sort_values('hotel', ascending=False)\n",
      "C:\\Users\\user\\AppData\\Local\\Temp\\ipykernel_5536\\2797316967.py:2: UserWarning: Boolean Series key will be reindexed to match DataFrame index.\n",
      "  bookings[bookings.hotel == 'City Hotel'][bookings.is_canceled == True][bookings.arrival_date_year == 2016].groupby('arrival_date_month').agg({'hotel':'count'}).sort_values('hotel', ascending=False)\n"
     ]
    },
    {
     "data": {
      "text/html": [
       "<div>\n",
       "<style scoped>\n",
       "    .dataframe tbody tr th:only-of-type {\n",
       "        vertical-align: middle;\n",
       "    }\n",
       "\n",
       "    .dataframe tbody tr th {\n",
       "        vertical-align: top;\n",
       "    }\n",
       "\n",
       "    .dataframe thead th {\n",
       "        text-align: right;\n",
       "    }\n",
       "</style>\n",
       "<table border=\"1\" class=\"dataframe\">\n",
       "  <thead>\n",
       "    <tr style=\"text-align: right;\">\n",
       "      <th></th>\n",
       "      <th>hotel</th>\n",
       "    </tr>\n",
       "    <tr>\n",
       "      <th>arrival_date_month</th>\n",
       "      <th></th>\n",
       "    </tr>\n",
       "  </thead>\n",
       "  <tbody>\n",
       "    <tr>\n",
       "      <th>October</th>\n",
       "      <td>1947</td>\n",
       "    </tr>\n",
       "    <tr>\n",
       "      <th>June</th>\n",
       "      <td>1720</td>\n",
       "    </tr>\n",
       "    <tr>\n",
       "      <th>September</th>\n",
       "      <td>1567</td>\n",
       "    </tr>\n",
       "    <tr>\n",
       "      <th>April</th>\n",
       "      <td>1539</td>\n",
       "    </tr>\n",
       "    <tr>\n",
       "      <th>May</th>\n",
       "      <td>1436</td>\n",
       "    </tr>\n",
       "    <tr>\n",
       "      <th>November</th>\n",
       "      <td>1360</td>\n",
       "    </tr>\n",
       "    <tr>\n",
       "      <th>August</th>\n",
       "      <td>1247</td>\n",
       "    </tr>\n",
       "    <tr>\n",
       "      <th>March</th>\n",
       "      <td>1108</td>\n",
       "    </tr>\n",
       "    <tr>\n",
       "      <th>December</th>\n",
       "      <td>1072</td>\n",
       "    </tr>\n",
       "    <tr>\n",
       "      <th>July</th>\n",
       "      <td>1043</td>\n",
       "    </tr>\n",
       "    <tr>\n",
       "      <th>February</th>\n",
       "      <td>930</td>\n",
       "    </tr>\n",
       "    <tr>\n",
       "      <th>January</th>\n",
       "      <td>438</td>\n",
       "    </tr>\n",
       "  </tbody>\n",
       "</table>\n",
       "</div>"
      ],
      "text/plain": [
       "                    hotel\n",
       "arrival_date_month       \n",
       "October              1947\n",
       "June                 1720\n",
       "September            1567\n",
       "April                1539\n",
       "May                  1436\n",
       "November             1360\n",
       "August               1247\n",
       "March                1108\n",
       "December             1072\n",
       "July                 1043\n",
       "February              930\n",
       "January               438"
      ]
     },
     "execution_count": 112,
     "metadata": {},
     "output_type": "execute_result"
    }
   ],
   "source": [
    "# топ-количеств отмен по месяцам в 2016\n",
    "bookings[bookings.hotel == 'City Hotel'][bookings.is_canceled == True][bookings.arrival_date_year == 2016].groupby('arrival_date_month').agg({'hotel':'count'}).sort_values('hotel', ascending=False)"
   ]
  },
  {
   "cell_type": "code",
   "execution_count": null,
   "id": "f704c9ad-2f42-4da8-9441-12286ae1ad8b",
   "metadata": {},
   "outputs": [],
   "source": []
  },
  {
   "cell_type": "code",
   "execution_count": 113,
   "id": "6286e71f-a780-450b-b057-26fc77ec0152",
   "metadata": {},
   "outputs": [
    {
     "name": "stderr",
     "output_type": "stream",
     "text": [
      "C:\\Users\\user\\AppData\\Local\\Temp\\ipykernel_5536\\1769755213.py:2: UserWarning: Boolean Series key will be reindexed to match DataFrame index.\n",
      "  bookings[bookings.hotel == 'City Hotel'][bookings.is_canceled == True][bookings.arrival_date_year == 2017].groupby('arrival_date_month').agg({'hotel':'count'}).sort_values('hotel', ascending=False)\n",
      "C:\\Users\\user\\AppData\\Local\\Temp\\ipykernel_5536\\1769755213.py:2: UserWarning: Boolean Series key will be reindexed to match DataFrame index.\n",
      "  bookings[bookings.hotel == 'City Hotel'][bookings.is_canceled == True][bookings.arrival_date_year == 2017].groupby('arrival_date_month').agg({'hotel':'count'}).sort_values('hotel', ascending=False)\n"
     ]
    },
    {
     "data": {
      "text/html": [
       "<div>\n",
       "<style scoped>\n",
       "    .dataframe tbody tr th:only-of-type {\n",
       "        vertical-align: middle;\n",
       "    }\n",
       "\n",
       "    .dataframe tbody tr th {\n",
       "        vertical-align: top;\n",
       "    }\n",
       "\n",
       "    .dataframe thead th {\n",
       "        text-align: right;\n",
       "    }\n",
       "</style>\n",
       "<table border=\"1\" class=\"dataframe\">\n",
       "  <thead>\n",
       "    <tr style=\"text-align: right;\">\n",
       "      <th></th>\n",
       "      <th>hotel</th>\n",
       "    </tr>\n",
       "    <tr>\n",
       "      <th>arrival_date_month</th>\n",
       "      <th></th>\n",
       "    </tr>\n",
       "  </thead>\n",
       "  <tbody>\n",
       "    <tr>\n",
       "      <th>May</th>\n",
       "      <td>2217</td>\n",
       "    </tr>\n",
       "    <tr>\n",
       "      <th>April</th>\n",
       "      <td>1926</td>\n",
       "    </tr>\n",
       "    <tr>\n",
       "      <th>June</th>\n",
       "      <td>1808</td>\n",
       "    </tr>\n",
       "    <tr>\n",
       "      <th>July</th>\n",
       "      <td>1324</td>\n",
       "    </tr>\n",
       "    <tr>\n",
       "      <th>March</th>\n",
       "      <td>1278</td>\n",
       "    </tr>\n",
       "    <tr>\n",
       "      <th>August</th>\n",
       "      <td>1123</td>\n",
       "    </tr>\n",
       "    <tr>\n",
       "      <th>January</th>\n",
       "      <td>1044</td>\n",
       "    </tr>\n",
       "    <tr>\n",
       "      <th>February</th>\n",
       "      <td>971</td>\n",
       "    </tr>\n",
       "  </tbody>\n",
       "</table>\n",
       "</div>"
      ],
      "text/plain": [
       "                    hotel\n",
       "arrival_date_month       \n",
       "May                  2217\n",
       "April                1926\n",
       "June                 1808\n",
       "July                 1324\n",
       "March                1278\n",
       "August               1123\n",
       "January              1044\n",
       "February              971"
      ]
     },
     "execution_count": 113,
     "metadata": {},
     "output_type": "execute_result"
    }
   ],
   "source": [
    "# топ-количеств отмен по месяцам в 2017\n",
    "bookings[bookings.hotel == 'City Hotel'][bookings.is_canceled == True][bookings.arrival_date_year == 2017].groupby('arrival_date_month').agg({'hotel':'count'}).sort_values('hotel', ascending=False)"
   ]
  },
  {
   "cell_type": "code",
   "execution_count": null,
   "id": "70320e2a-11be-4c1a-ab38-7e7c87a11de5",
   "metadata": {},
   "outputs": [],
   "source": []
  },
  {
   "cell_type": "code",
   "execution_count": null,
   "id": "d36fbfc5-e900-4a1a-a299-1379267006d1",
   "metadata": {},
   "outputs": [],
   "source": [
    "# Количство взрослых, детей и младенцев"
   ]
  },
  {
   "cell_type": "code",
   "execution_count": 134,
   "id": "caac579c-8bdb-4f27-9ba6-cc120a813220",
   "metadata": {},
   "outputs": [
    {
     "data": {
      "text/plain": [
       "221636"
      ]
     },
     "execution_count": 134,
     "metadata": {},
     "output_type": "execute_result"
    }
   ],
   "source": [
    "bookings['adults'].sum()"
   ]
  },
  {
   "cell_type": "code",
   "execution_count": 142,
   "id": "27a5973b-4359-43e9-9bcc-c7b98718606b",
   "metadata": {},
   "outputs": [
    {
     "data": {
      "text/plain": [
       "949.0"
      ]
     },
     "execution_count": 142,
     "metadata": {},
     "output_type": "execute_result"
    }
   ],
   "source": [
    "bookings['babies'].astype('float64').sum()"
   ]
  },
  {
   "cell_type": "code",
   "execution_count": 136,
   "id": "8a44e58e-4ccf-489d-8856-490d201e3120",
   "metadata": {},
   "outputs": [
    {
     "data": {
      "text/plain": [
       "12403.0"
      ]
     },
     "execution_count": 136,
     "metadata": {},
     "output_type": "execute_result"
    }
   ],
   "source": [
    "bookings['children'].sum()"
   ]
  },
  {
   "cell_type": "code",
   "execution_count": null,
   "id": "11c170cf-7d8b-45cd-b090-32c0912e2129",
   "metadata": {},
   "outputs": [],
   "source": []
  },
  {
   "cell_type": "code",
   "execution_count": null,
   "id": "b0ee4a37-c8af-4d7f-b0ee-7df0f60c82ea",
   "metadata": {},
   "outputs": [],
   "source": []
  },
  {
   "cell_type": "code",
   "execution_count": 166,
   "id": "9ceb5fc7-a01e-4b44-83a3-de339889d3b1",
   "metadata": {},
   "outputs": [
    {
     "data": {
      "text/html": [
       "<div>\n",
       "<style scoped>\n",
       "    .dataframe tbody tr th:only-of-type {\n",
       "        vertical-align: middle;\n",
       "    }\n",
       "\n",
       "    .dataframe tbody tr th {\n",
       "        vertical-align: top;\n",
       "    }\n",
       "\n",
       "    .dataframe thead th {\n",
       "        text-align: right;\n",
       "    }\n",
       "</style>\n",
       "<table border=\"1\" class=\"dataframe\">\n",
       "  <thead>\n",
       "    <tr style=\"text-align: right;\">\n",
       "      <th></th>\n",
       "      <th>total_kids</th>\n",
       "    </tr>\n",
       "    <tr>\n",
       "      <th>hotel</th>\n",
       "      <th></th>\n",
       "    </tr>\n",
       "  </thead>\n",
       "  <tbody>\n",
       "    <tr>\n",
       "      <th>City Hotel</th>\n",
       "      <td>0.096311</td>\n",
       "    </tr>\n",
       "    <tr>\n",
       "      <th>Resort Hotel</th>\n",
       "      <td>0.142586</td>\n",
       "    </tr>\n",
       "  </tbody>\n",
       "</table>\n",
       "</div>"
      ],
      "text/plain": [
       "              total_kids\n",
       "hotel                   \n",
       "City Hotel      0.096311\n",
       "Resort Hotel    0.142586"
      ]
     },
     "execution_count": 166,
     "metadata": {},
     "output_type": "execute_result"
    }
   ],
   "source": [
    "# Создаем колонку total_kids в первой строке, объединив столбцы children и babies. \n",
    "# Определяем для отелей какого типа среднее значение переменной оказалось наибольшим во второй строке.\n",
    "bookings['total_kids'] = bookings.babies.astype('float64') + bookings.children\n",
    "bookings.groupby('hotel').agg({'total_kids':'mean'})"
   ]
  },
  {
   "cell_type": "code",
   "execution_count": null,
   "id": "5b931abd-b49f-4834-ae20-90368a6900fe",
   "metadata": {},
   "outputs": [],
   "source": []
  },
  {
   "cell_type": "code",
   "execution_count": 175,
   "id": "6184a639-3848-4604-87f3-ec7edbb56c3b",
   "metadata": {},
   "outputs": [],
   "source": [
    "# Churn rate (отток, коэффициент оттока) – это процент подписчиков (например, на push-уведомления от сайта), \n",
    "# которые отписались от канала коммуникации, отказались от услуг сервиса в течение определенного периода времени.\n",
    "# В нашем случае Churn Rate - это процент клиентов, которые отменили бронирование. \n",
    "# Давайте посмотрим, как эта метрика зависит от наличия детей у клиентов!"
   ]
  },
  {
   "cell_type": "code",
   "execution_count": 176,
   "id": "e86b7690-411c-46c4-9496-13b60904ff9f",
   "metadata": {},
   "outputs": [],
   "source": [
    "# Создаем переменную has_kids если есть отвечает True, если нет False, для группирование клиентов на с детьми и без детей\n",
    "bookings['has_kids'] = bookings['total_kids'] > 0"
   ]
  },
  {
   "cell_type": "code",
   "execution_count": 192,
   "id": "ba8bc4e6-b1a9-4cca-8b2b-76efbba60d7e",
   "metadata": {},
   "outputs": [
    {
     "name": "stderr",
     "output_type": "stream",
     "text": [
      "C:\\Users\\user\\AppData\\Local\\Temp\\ipykernel_5536\\4221711970.py:1: UserWarning: Boolean Series key will be reindexed to match DataFrame index.\n",
      "  bookings[bookings.has_kids == True][bookings.is_canceled == 1].hotel.count()/bookings[(bookings.has_kids == True)].hotel.count()\n"
     ]
    },
    {
     "data": {
      "text/plain": [
       "0.3492284612087441"
      ]
     },
     "execution_count": 192,
     "metadata": {},
     "output_type": "execute_result"
    }
   ],
   "source": [
    "# Коэффицент оттоека(Churn rate) среди клиентов с детьми\n",
    "bookings[bookings.has_kids == True][bookings.is_canceled == 1].hotel.count()/bookings[(bookings.has_kids == True)].hotel.count()"
   ]
  },
  {
   "cell_type": "code",
   "execution_count": 190,
   "id": "99fa43a6-fc66-42f3-bad8-1d426b319de8",
   "metadata": {},
   "outputs": [
    {
     "name": "stderr",
     "output_type": "stream",
     "text": [
      "C:\\Users\\user\\AppData\\Local\\Temp\\ipykernel_5536\\692794002.py:1: UserWarning: Boolean Series key will be reindexed to match DataFrame index.\n",
      "  bookings[bookings.has_kids == False][bookings.is_canceled == 1].hotel.count()/bookings[(bookings.has_kids == False)].hotel.count()\n"
     ]
    },
    {
     "data": {
      "text/plain": [
       "0.37221283323338605"
      ]
     },
     "execution_count": 190,
     "metadata": {},
     "output_type": "execute_result"
    }
   ],
   "source": [
    "# Коэффицент оттоека(Churn rate) среди клиентов без детей\n",
    "bookings[bookings.has_kids == False][bookings.is_canceled == 1].hotel.count()/bookings[(bookings.has_kids == False)].hotel.count()"
   ]
  },
  {
   "cell_type": "code",
   "execution_count": 191,
   "id": "a23f7d6c-2a3c-49b8-bd1e-53e76fec29e9",
   "metadata": {},
   "outputs": [
    {
     "data": {
      "text/plain": [
       "0.37041628277075134"
      ]
     },
     "execution_count": 191,
     "metadata": {},
     "output_type": "execute_result"
    }
   ],
   "source": [
    "# Коэффицент оттоека(Churn rate) среди всех клиентов\n",
    "bookings[bookings.is_canceled == 1].hotel.count()/bookings.hotel.count()"
   ]
  },
  {
   "cell_type": "code",
   "execution_count": null,
   "id": "9fe19247-3a29-4baa-9ab3-4e81a9e2c758",
   "metadata": {},
   "outputs": [],
   "source": []
  }
 ],
 "metadata": {
  "kernelspec": {
   "display_name": "Python 3 (ipykernel)",
   "language": "python",
   "name": "python3"
  },
  "language_info": {
   "codemirror_mode": {
    "name": "ipython",
    "version": 3
   },
   "file_extension": ".py",
   "mimetype": "text/x-python",
   "name": "python",
   "nbconvert_exporter": "python",
   "pygments_lexer": "ipython3",
   "version": "3.11.4"
  }
 },
 "nbformat": 4,
 "nbformat_minor": 5
}
